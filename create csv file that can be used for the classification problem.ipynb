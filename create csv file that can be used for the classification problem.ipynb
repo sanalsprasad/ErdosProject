{
 "cells": [
  {
   "cell_type": "code",
   "execution_count": 1,
   "id": "1ebf5a37",
   "metadata": {},
   "outputs": [],
   "source": [
    "import pandas as pd\n",
    "import numpy as np\n",
    "import seaborn as sns\n",
    "from sklearn.model_selection import train_test_split"
   ]
  },
  {
   "cell_type": "markdown",
   "id": "e566350c",
   "metadata": {},
   "source": [
    "old selections:"
   ]
  },
  {
   "cell_type": "code",
   "execution_count": 2,
   "id": "fbaea278",
   "metadata": {},
   "outputs": [],
   "source": [
    "cmm = pd.read_csv(\"Data/CMM.csv\")\n",
    "cmm_pa = cmm[cmm['dim_pa_id'].notna()]\n",
    "cmm_pa_train, cmm_pa_test = train_test_split(cmm_pa, test_size = 0.2, \n",
    "                                             random_state = 10475, shuffle = True,\n",
    "                                            stratify = cmm_pa.pa_approved)"
   ]
  },
  {
   "cell_type": "markdown",
   "id": "85f8b8a5",
   "metadata": {},
   "source": [
    "new selections: the identity information/ (extra) indexing information  (dim_claim_id, dim_pa_id), \"redundent information\" (pharmacy_claim_approved), and date infromation ('date_val','calendar_year','calendar_month','calendar_day','day_of_week','is_weekday','is_workday','is_holiday','dim_date_id') are removed for cmm_pa_clf, and saved as 'cmm_pa_clf.csv' under Data folder. "
   ]
  },
  {
   "cell_type": "code",
   "execution_count": 3,
   "id": "fa9531e3",
   "metadata": {},
   "outputs": [],
   "source": [
    "cmm = pd.read_csv(\"Data/CMM.csv\")\n",
    "cmm_new = cmm[cmm['dim_pa_id'].notna()]\n",
    "cmm_pa_clf = pd.get_dummies(data = cmm_new, columns = ['drug','bin','reject_code']).copy()\n",
    "cmm_pa_clf = cmm_pa_clf.drop(columns=['date_val',\n",
    " 'calendar_year',\n",
    " 'calendar_month',\n",
    " 'calendar_day',\n",
    " 'day_of_week',\n",
    " 'is_weekday',\n",
    " 'is_workday',\n",
    " 'is_holiday','dim_date_id','dim_claim_id','pharmacy_claim_approved','dim_pa_id'])\n",
    "cmm_pa_clf.to_csv('Data/cmm_pa_clf.csv')#here we create a new csv.file in Data folder \n",
    "# now we read this csv file and create the train -test split and check if they are the same rows as before. \n",
    "cmm_pa_clf_read = pd.read_csv(\"Data/cmm_pa_clf.csv\",index_col = 0)\n",
    "cmm_pa_clf_train,cmm_pa_clf_test= train_test_split(cmm_pa_clf_read, test_size = 0.2, \n",
    "                                             random_state = 10475, shuffle = True,\n",
    "                                            stratify = cmm_pa_clf_read.pa_approved)"
   ]
  },
  {
   "cell_type": "code",
   "execution_count": 4,
   "id": "5656c75b",
   "metadata": {},
   "outputs": [
    {
     "data": {
      "text/html": [
       "<div>\n",
       "<style scoped>\n",
       "    .dataframe tbody tr th:only-of-type {\n",
       "        vertical-align: middle;\n",
       "    }\n",
       "\n",
       "    .dataframe tbody tr th {\n",
       "        vertical-align: top;\n",
       "    }\n",
       "\n",
       "    .dataframe thead th {\n",
       "        text-align: right;\n",
       "    }\n",
       "</style>\n",
       "<table border=\"1\" class=\"dataframe\">\n",
       "  <thead>\n",
       "    <tr style=\"text-align: right;\">\n",
       "      <th></th>\n",
       "      <th>correct_diagnosis</th>\n",
       "      <th>tried_and_failed</th>\n",
       "      <th>contraindication</th>\n",
       "      <th>pa_approved</th>\n",
       "      <th>drug_A</th>\n",
       "      <th>drug_B</th>\n",
       "      <th>drug_C</th>\n",
       "      <th>bin_417380</th>\n",
       "      <th>bin_417614</th>\n",
       "      <th>bin_417740</th>\n",
       "      <th>bin_999001</th>\n",
       "      <th>reject_code_70.0</th>\n",
       "      <th>reject_code_75.0</th>\n",
       "      <th>reject_code_76.0</th>\n",
       "    </tr>\n",
       "  </thead>\n",
       "  <tbody>\n",
       "    <tr>\n",
       "      <th>0</th>\n",
       "      <td>1.0</td>\n",
       "      <td>1.0</td>\n",
       "      <td>0.0</td>\n",
       "      <td>1.0</td>\n",
       "      <td>1</td>\n",
       "      <td>0</td>\n",
       "      <td>0</td>\n",
       "      <td>1</td>\n",
       "      <td>0</td>\n",
       "      <td>0</td>\n",
       "      <td>0</td>\n",
       "      <td>0</td>\n",
       "      <td>1</td>\n",
       "      <td>0</td>\n",
       "    </tr>\n",
       "    <tr>\n",
       "      <th>2</th>\n",
       "      <td>1.0</td>\n",
       "      <td>0.0</td>\n",
       "      <td>0.0</td>\n",
       "      <td>1.0</td>\n",
       "      <td>1</td>\n",
       "      <td>0</td>\n",
       "      <td>0</td>\n",
       "      <td>0</td>\n",
       "      <td>0</td>\n",
       "      <td>1</td>\n",
       "      <td>0</td>\n",
       "      <td>0</td>\n",
       "      <td>0</td>\n",
       "      <td>1</td>\n",
       "    </tr>\n",
       "    <tr>\n",
       "      <th>9</th>\n",
       "      <td>0.0</td>\n",
       "      <td>0.0</td>\n",
       "      <td>1.0</td>\n",
       "      <td>1.0</td>\n",
       "      <td>1</td>\n",
       "      <td>0</td>\n",
       "      <td>0</td>\n",
       "      <td>1</td>\n",
       "      <td>0</td>\n",
       "      <td>0</td>\n",
       "      <td>0</td>\n",
       "      <td>0</td>\n",
       "      <td>1</td>\n",
       "      <td>0</td>\n",
       "    </tr>\n",
       "    <tr>\n",
       "      <th>10</th>\n",
       "      <td>1.0</td>\n",
       "      <td>1.0</td>\n",
       "      <td>0.0</td>\n",
       "      <td>1.0</td>\n",
       "      <td>1</td>\n",
       "      <td>0</td>\n",
       "      <td>0</td>\n",
       "      <td>0</td>\n",
       "      <td>0</td>\n",
       "      <td>0</td>\n",
       "      <td>1</td>\n",
       "      <td>0</td>\n",
       "      <td>0</td>\n",
       "      <td>1</td>\n",
       "    </tr>\n",
       "    <tr>\n",
       "      <th>14</th>\n",
       "      <td>0.0</td>\n",
       "      <td>1.0</td>\n",
       "      <td>0.0</td>\n",
       "      <td>1.0</td>\n",
       "      <td>1</td>\n",
       "      <td>0</td>\n",
       "      <td>0</td>\n",
       "      <td>0</td>\n",
       "      <td>1</td>\n",
       "      <td>0</td>\n",
       "      <td>0</td>\n",
       "      <td>1</td>\n",
       "      <td>0</td>\n",
       "      <td>0</td>\n",
       "    </tr>\n",
       "  </tbody>\n",
       "</table>\n",
       "</div>"
      ],
      "text/plain": [
       "    correct_diagnosis  tried_and_failed  contraindication  pa_approved  \\\n",
       "0                 1.0               1.0               0.0          1.0   \n",
       "2                 1.0               0.0               0.0          1.0   \n",
       "9                 0.0               0.0               1.0          1.0   \n",
       "10                1.0               1.0               0.0          1.0   \n",
       "14                0.0               1.0               0.0          1.0   \n",
       "\n",
       "    drug_A  drug_B  drug_C  bin_417380  bin_417614  bin_417740  bin_999001  \\\n",
       "0        1       0       0           1           0           0           0   \n",
       "2        1       0       0           0           0           1           0   \n",
       "9        1       0       0           1           0           0           0   \n",
       "10       1       0       0           0           0           0           1   \n",
       "14       1       0       0           0           1           0           0   \n",
       "\n",
       "    reject_code_70.0  reject_code_75.0  reject_code_76.0  \n",
       "0                  0                 1                 0  \n",
       "2                  0                 0                 1  \n",
       "9                  0                 1                 0  \n",
       "10                 0                 0                 1  \n",
       "14                 1                 0                 0  "
      ]
     },
     "execution_count": 4,
     "metadata": {},
     "output_type": "execute_result"
    }
   ],
   "source": [
    "cmm_pa_clf_read.head()"
   ]
  },
  {
   "cell_type": "markdown",
   "id": "440b0411",
   "metadata": {},
   "source": [
    "let us check if the two file give us the same train and test set in the following two inputs:  (can change index with correct_diagnosis, tried_and_failed, contraindication or pa_approved)"
   ]
  },
  {
   "cell_type": "code",
   "execution_count": 5,
   "id": "9bc46c0b",
   "metadata": {},
   "outputs": [
    {
     "data": {
      "text/plain": [
       "array([ True])"
      ]
     },
     "execution_count": 5,
     "metadata": {},
     "output_type": "execute_result"
    }
   ],
   "source": [
    "np.unique(cmm_pa_train.index == cmm_pa_clf_train.index)"
   ]
  },
  {
   "cell_type": "code",
   "execution_count": 6,
   "id": "271e2ed0",
   "metadata": {},
   "outputs": [
    {
     "data": {
      "text/plain": [
       "array([ True])"
      ]
     },
     "execution_count": 6,
     "metadata": {},
     "output_type": "execute_result"
    }
   ],
   "source": [
    "np.unique(cmm_pa_test.index == cmm_pa_clf_test.index)"
   ]
  },
  {
   "cell_type": "markdown",
   "id": "5936ab93",
   "metadata": {},
   "source": [
    "They give the exact same train-test split when using the random seed we choose (10475)."
   ]
  },
  {
   "cell_type": "markdown",
   "id": "05240c7f",
   "metadata": {},
   "source": [
    "Let's check here that we have all the  columns we want and removed the ones we do not need for now. "
   ]
  },
  {
   "cell_type": "code",
   "execution_count": 7,
   "id": "16695d60",
   "metadata": {},
   "outputs": [
    {
     "data": {
      "text/plain": [
       "['dim_claim_id',\n",
       " 'dim_pa_id',\n",
       " 'dim_date_id',\n",
       " 'bin',\n",
       " 'drug',\n",
       " 'reject_code',\n",
       " 'pharmacy_claim_approved',\n",
       " 'date_val',\n",
       " 'calendar_year',\n",
       " 'calendar_month',\n",
       " 'calendar_day',\n",
       " 'day_of_week',\n",
       " 'is_weekday',\n",
       " 'is_workday',\n",
       " 'is_holiday',\n",
       " 'correct_diagnosis',\n",
       " 'tried_and_failed',\n",
       " 'contraindication',\n",
       " 'pa_approved']"
      ]
     },
     "execution_count": 7,
     "metadata": {},
     "output_type": "execute_result"
    }
   ],
   "source": [
    "list(cmm_pa_train.columns)"
   ]
  },
  {
   "cell_type": "code",
   "execution_count": 8,
   "id": "4a39be6f",
   "metadata": {},
   "outputs": [
    {
     "data": {
      "text/plain": [
       "['correct_diagnosis',\n",
       " 'tried_and_failed',\n",
       " 'contraindication',\n",
       " 'pa_approved',\n",
       " 'drug_A',\n",
       " 'drug_B',\n",
       " 'drug_C',\n",
       " 'bin_417380',\n",
       " 'bin_417614',\n",
       " 'bin_417740',\n",
       " 'bin_999001',\n",
       " 'reject_code_70.0',\n",
       " 'reject_code_75.0',\n",
       " 'reject_code_76.0']"
      ]
     },
     "execution_count": 8,
     "metadata": {},
     "output_type": "execute_result"
    }
   ],
   "source": [
    "list(cmm_pa_clf_train.columns)"
   ]
  },
  {
   "cell_type": "code",
   "execution_count": null,
   "id": "45ca0fd1",
   "metadata": {},
   "outputs": [],
   "source": []
  }
 ],
 "metadata": {
  "kernelspec": {
   "display_name": "Python 3 (ipykernel)",
   "language": "python",
   "name": "python3"
  },
  "language_info": {
   "codemirror_mode": {
    "name": "ipython",
    "version": 3
   },
   "file_extension": ".py",
   "mimetype": "text/x-python",
   "name": "python",
   "nbconvert_exporter": "python",
   "pygments_lexer": "ipython3",
   "version": "3.8.2"
  }
 },
 "nbformat": 4,
 "nbformat_minor": 5
}
